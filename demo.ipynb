{
 "cells": [
  {
   "cell_type": "code",
   "execution_count": 2,
   "metadata": {},
   "outputs": [
    {
     "name": "stdout",
     "output_type": "stream",
     "text": [
      "Converting png/2.png to svg/2.svg\n",
      "Converting png/3.png to svg/3.svg\n",
      "Converting png/1.png to svg/1.svg\n",
      "Conversion complete!\n"
     ]
    }
   ],
   "source": [
    "from pathlib import Path\n",
    "import numpy as np\n",
    "from PIL import Image\n",
    "import svgwrite\n",
    "\n",
    "# Create output directory if it doesn't exist\n",
    "Path(\"./svg\").mkdir(exist_ok=True)\n",
    "\n",
    "def image_to_svg(input_path, output_path, threshold=128):\n",
    "    \"\"\"Convert a PNG image to SVG using edge detection and path tracing.\"\"\"\n",
    "    img = Image.open(input_path).convert('L')\n",
    "    img_array = np.array(img)\n",
    "    \n",
    "    dwg = svgwrite.Drawing(output_path, size=(img.width, img.height))\n",
    "    dwg.add(dwg.rect(insert=(0, 0), size=(img.width, img.height), fill='white'))\n",
    "    \n",
    "    for y in range(img.height):\n",
    "        for x in range(img.width):\n",
    "            if img_array[y, x] < threshold:\n",
    "                dwg.add(dwg.rect(insert=(x, y), size=(1, 1), fill='black'))\n",
    "    \n",
    "    dwg.save()\n",
    "\n",
    "# Process all PNG files\n",
    "for png_file in Path(\"./png\").glob(\"*.png\"):\n",
    "    svg_file = Path(\"./svg\") / f\"{png_file.stem}.svg\"\n",
    "    print(f\"Converting {png_file} to {svg_file}\")\n",
    "    image_to_svg(png_file, svg_file)\n",
    "\n",
    "print(\"Conversion complete!\")"
   ]
  },
  {
   "cell_type": "code",
   "execution_count": null,
   "metadata": {},
   "outputs": [],
   "source": []
  }
 ],
 "metadata": {
  "kernelspec": {
   "display_name": ".venv",
   "language": "python",
   "name": "python3"
  },
  "language_info": {
   "codemirror_mode": {
    "name": "ipython",
    "version": 3
   },
   "file_extension": ".py",
   "mimetype": "text/x-python",
   "name": "python",
   "nbconvert_exporter": "python",
   "pygments_lexer": "ipython3",
   "version": "3.12.3"
  }
 },
 "nbformat": 4,
 "nbformat_minor": 2
}
