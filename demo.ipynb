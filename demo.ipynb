{
 "cells": [
  {
   "cell_type": "code",
   "execution_count": 7,
   "metadata": {},
   "outputs": [
    {
     "name": "stdout",
     "output_type": "stream",
     "text": [
      "Converting png/2.png to svg/2.svg\n",
      "Converting png/3.png to svg/3.svg\n",
      "Converting png/1.png to svg/1.svg\n",
      "Conversion complete!\n"
     ]
    }
   ],
   "source": [
    "from pathlib import Path\n",
    "import subprocess\n",
    "import numpy as np\n",
    "from PIL import Image\n",
    "\n",
    "# Create output directory if it doesn't exist\n",
    "Path(\"./svg\").mkdir(exist_ok=True)\n",
    "\n",
    "def image_to_svg(input_path, output_path):\n",
    "    \"\"\"Convert a PNG image to SVG using potrace with optimized parameters for clean lines.\"\"\"\n",
    "    # Convert to black and white image first\n",
    "    img = Image.open(input_path).convert('L')\n",
    "    # Apply strong threshold for crisp edges\n",
    "    img = img.point(lambda x: 0 if x < 200 else 255, '1')\n",
    "    \n",
    "    # Save temporary PBM file (potrace input format)\n",
    "    temp_pbm = str(Path(input_path).with_suffix('.pbm'))\n",
    "    img.save(temp_pbm)\n",
    "    \n",
    "    try:\n",
    "        # Run potrace with optimized parameters for clean lines\n",
    "        subprocess.run([\n",
    "            'potrace',\n",
    "            '--svg',                    # Output SVG format\n",
    "            '--alphamax', '0.1',        # Very low threshold for corners (makes sharper corners)\n",
    "            '--turdsize', '4',          # Remove small artifacts\n",
    "            '--turnpolicy', 'black',    # Optimize for black regions\n",
    "            '--opttolerance', '0.1',    # Very precise curve optimization\n",
    "            '--unit', '1000',           # High resolution output\n",
    "            '--scale', '1.0',           # Maintain scale\n",
    "            '--blacklevel', '0.5',      # Balanced black/white threshold\n",
    "            '--output', str(output_path),\n",
    "            temp_pbm\n",
    "        ], check=True)\n",
    "    finally:\n",
    "        # Clean up temporary file\n",
    "        Path(temp_pbm).unlink(missing_ok=True)\n",
    "\n",
    "# Process all PNG files too\n",
    "for png_file in Path(\"./png\").glob(\"*.png\"):\n",
    "    svg_file = Path(\"./svg\") / f\"{png_file.stem}.svg\"\n",
    "    print(f\"Converting {png_file} to {svg_file}\")\n",
    "    \n",
    "    # Load PNG as numpy array\n",
    "    img = np.array(Image.open(png_file).convert('L')) / 255.0\n",
    "    array_to_svg(img, svg_file)\n",
    "\n",
    "print(\"Conversion complete!\")"
   ]
  },
  {
   "cell_type": "code",
   "execution_count": null,
   "metadata": {},
   "outputs": [],
   "source": []
  }
 ],
 "metadata": {
  "kernelspec": {
   "display_name": ".venv",
   "language": "python",
   "name": "python3"
  },
  "language_info": {
   "codemirror_mode": {
    "name": "ipython",
    "version": 3
   },
   "file_extension": ".py",
   "mimetype": "text/x-python",
   "name": "python",
   "nbconvert_exporter": "python",
   "pygments_lexer": "ipython3",
   "version": "3.12.3"
  }
 },
 "nbformat": 4,
 "nbformat_minor": 2
}
